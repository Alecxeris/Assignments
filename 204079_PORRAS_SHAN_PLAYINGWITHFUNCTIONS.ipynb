{
 "cells": [
  {
   "cell_type": "markdown",
   "metadata": {},
   "source": [
    "# Assignment: Playing with Functions\n",
    "\n",
    "This problem set aims to serve as a stepping stone from basic Python to intermediate Python.  "
   ]
  },
  {
   "cell_type": "markdown",
   "metadata": {},
   "source": [
    "## Problem 1\n",
    "## Factorial (1 point)\n",
    "\n",
    "The **factorial** of a number is the product of that number and all the numbers below it. For example, 5 factorial (denoted 5! in math) is 5 * 4 * 3 * 2 * 1, which is 120.  \n",
    "\n",
    "**Write a function called `problem_1` that takes one positional argument `number`. The function should return  the factorial of `number` as an integer.**\n",
    "\n",
    "Example input/output:  \n",
    "`problem_1(5)` => `120`  \n",
    "`problem_1(10)` => `3628800`  "
   ]
  },
  {
   "cell_type": "code",
   "execution_count": 3,
   "metadata": {},
   "outputs": [
    {
     "name": "stdout",
     "output_type": "stream",
     "text": [
      "3628800\n"
     ]
    }
   ],
   "source": [
    "def problem_1(n):\n",
    "    x = n\n",
    "    y = n\n",
    "    while x != 1:\n",
    "        x = x - 1\n",
    "        y = y *x\n",
    "    print(y)\n",
    "\n",
    "n = int(input(\"what's your number? \"))\n",
    "problem_1(n)"
   ]
  },
  {
   "cell_type": "markdown",
   "metadata": {},
   "source": [
    "## Problem 2\n",
    "## Number Guessing Game (2 points) \n",
    "\n",
    "Recall that we use `input()` to ask for user input.  \n",
    "\n",
    "**Write a function called `problem_2` that takes one positional argument `passphrase`. The function should ask the user to enter the passphrase with `input()`. If the user enters the correct passphrase, the function should return the integer `1`. If the user enters the wrong passphrase, the function should keep asking them for the passphrase. If the user gets the passphrase wrong 3 times, the function should return the integer `0`.**  \n",
    "\n",
    "Example input/output:  \n",
    "\n",
    "Function input:  \n",
    "`problem_2(\"chums\")`  \n",
    "Simulated user input:  \n",
    "`joben`  \n",
    "`chums`  \n",
    "Output:  \n",
    "`1`  \n",
    "\n",
    "Function input:  \n",
    "`problem_2(\"annika\")`  \n",
    "Simulated user input:  \n",
    "`joe`  \n",
    "`earl`  \n",
    "`niks`  \n",
    "Output:  \n",
    "`0`"
   ]
  },
  {
   "cell_type": "code",
   "execution_count": 19,
   "metadata": {},
   "outputs": [
    {
     "data": {
      "text/plain": [
       "1"
      ]
     },
     "execution_count": 19,
     "metadata": {},
     "output_type": "execute_result"
    }
   ],
   "source": [
    "def problem_2(code):\n",
    "    counter = 0\n",
    "    ans = \"\"\n",
    "    while code != ans:\n",
    "        ans = input(\"What's the passphrase? \")\n",
    "        if code == ans:\n",
    "            return (1)\n",
    "        elif code != ans:\n",
    "            if counter >= 2:\n",
    "                return (0)\n",
    "            else:\n",
    "                counter += 1\n",
    "code = input(\"What's the code? \")\n",
    "problem_2(code)"
   ]
  },
  {
   "cell_type": "markdown",
   "metadata": {},
   "source": [
    "## Problem 3\n",
    "## Temperature Converter (3 points)\n",
    "\n",
    "A common beginner's exercise is to write a function that can convert a temperature value from one format, such as Fahrenheit, to another, such as Celsius.  \n",
    "\n",
    "In this problem, extend this idea to convert temperatures freely to and from any of the following formats: Celsius, Fahrenheit, and Kelvin.  \n",
    "\n",
    "**Write a function called `problem_3` that takes three positional arguments: (float) `temp`, (string) `original_format`, (string) `new_format`. The function should convert `temp`, which is represented in `original_format`, to its equivalent value in the `new_format.`**  \n",
    "\n",
    "Example input/output:  \n",
    "`problem_3(0.0, \"Celsius\", \"Fahrenheit\")` => `32.0`  \n",
    "`problem_3(500.0, \"Kelvin\", \"Fahrenheit\")` => `440.33`  \n",
    "`problem_3(273.0, \"Kelvin\", \"Celsius\")` => `0.0`  \n",
    "\n",
    "For your convenience:  \n",
    "1. The accuracy of your float outputs will only be evaluated to within 2 decimal places. (In other words: don't worry too much about getting the calculation *exactly* right.)"
   ]
  },
  {
   "cell_type": "code",
   "execution_count": 27,
   "metadata": {},
   "outputs": [
    {
     "name": "stdout",
     "output_type": "stream",
     "text": [
      "32.0\n",
      "32.0\n",
      "440.6\n",
      "0.0\n"
     ]
    }
   ],
   "source": [
    "def problem_3(t,o,n):\n",
    "    ans = float(t)\n",
    "    if o == \"Celsius\":\n",
    "        ans = ans+273 #Celsius to Kelvin\n",
    "    elif o == \"Fahrenheit\":\n",
    "        ans = 5/9*(ans-32)+273 #Fahrenheit to Kelvin\n",
    "    elif o == \"Kelvin\":\n",
    "        ans = ans #Kelvin to Kelvin\n",
    "    if n == \"Celsius\":\n",
    "        ans = ans-273 #Kelvin to Celsius\n",
    "    elif n == \"Fahrenheit\":\n",
    "        ans = 9/5*(ans-273)+32 #Kelvin to Fahrenheit\n",
    "    elif n == Kelvin:\n",
    "        ans = ans #Kelvin to Kelvin\n",
    "    print(ans)\n",
    "problem_3(0.0,\"Celsius\",\"Fahrenheit\")\n",
    "problem_3(0.0, \"Celsius\", \"Fahrenheit\")  \n",
    "problem_3(500.0, \"Kelvin\", \"Fahrenheit\")  \n",
    "problem_3(273.0, \"Kelvin\", \"Celsius\")    "
   ]
  },
  {
   "cell_type": "markdown",
   "metadata": {},
   "source": [
    "## Problem 4\n",
    "## Exact Change (4 points)\n",
    "\n",
    "Part of a cashier's job is to give exact change to customers. It can be difficult to mentally tally how many coins of each type (i.e., 1 peso, 25 centavos, 10 centavos, etc.) to give to a customer.  \n",
    "\n",
    "**Write a function called `problem_4` that takes 1 positional argument `amount` in centavos. The function should return a string that describes the appropriate amounts of each type of coin to give to the customer. The string should be formatted as follows:**  \n",
    "\n",
    "`\"1P:{num}/25C:{num}/10C:{num}/5C:{num}/1C:{num}\"`  \n",
    "\n",
    "**Use the fewest number of total coins possible.**  \n",
    "\n",
    "Example input/output:  \n",
    "`problem_4(105)` => `\"1P:1/25C:0/10C:0/5C:1/1C:0\"`  \n",
    "`problem_4(69)` => `\"1P:0/25C:2/10C:1/5C:1/1C:4\"`  "
   ]
  },
  {
   "cell_type": "code",
   "execution_count": 30,
   "metadata": {},
   "outputs": [
    {
     "name": "stdout",
     "output_type": "stream",
     "text": [
      "1P:0/25C:2/10C:1/5C:1/1C:4\n"
     ]
    }
   ],
   "source": [
    "def problem_4(c):\n",
    "    hun = 0 #1P\n",
    "    twe = 0 #25C\n",
    "    ten = 0 #10C\n",
    "    fiv = 0 #5C\n",
    "    one = 0 #1C\n",
    "    while c != 0:\n",
    "        if c >= 100:\n",
    "            hun += 1\n",
    "            c -= 100\n",
    "        elif c >= 25:\n",
    "            twe += 1\n",
    "            c -= 25\n",
    "        elif c >= 10:\n",
    "            ten += 1\n",
    "            c -= 10\n",
    "        elif c >= 5:\n",
    "            fiv += 1\n",
    "            c -= 5\n",
    "        elif c >= 1:\n",
    "            one += 1\n",
    "            c -= 1\n",
    "    print(f\"1P:{hun}/25C:{twe}/10C:{ten}/5C:{fiv}/1C:{one}\")\n",
    "\n",
    "problem_4(69)"
   ]
  },
  {
   "cell_type": "markdown",
   "metadata": {},
   "source": [
    "## Problem 5\n",
    "## Invert Capitalization (3 points)  \n",
    "\n",
    "**Write a function called `problem_5` that takes 1 positional argument (string) `message`. The function should return a string whose uppercase letters are now lowercase and whose lowercase letters are now uppercase. Spaces should be left alone.**  \n",
    "\n",
    "Example input/output:  \n",
    "`problem_5(\"Test Me\")` => `\"tEST mE\"`  \n",
    "`problem_5(\"asSiGnmENt\")` => `\"ASsIgNMenT\"`  \n",
    "\n",
    "For your convenience:  \n",
    "1. The message will only ever consist of spaces, lowercase letters, and uppercase letters.  \n",
    "\n",
    "Hint: Research on `ord()` and `chr()`.  "
   ]
  },
  {
   "cell_type": "code",
   "execution_count": 33,
   "metadata": {},
   "outputs": [
    {
     "name": "stdout",
     "output_type": "stream",
     "text": [
      "tEST mE\n"
     ]
    }
   ],
   "source": [
    "def problem_5(mes):\n",
    "    mes = mes.swapcase()\n",
    "    print(mes)\n",
    "\n",
    "problem_5(\"Test Me\")"
   ]
  },
  {
   "cell_type": "code",
   "execution_count": null,
   "metadata": {},
   "outputs": [],
   "source": []
  }
 ],
 "metadata": {
  "interpreter": {
   "hash": "344443636c3027c5042750c9c609acdda283a9c43681b128a8c1053e7ad2aa7d"
  },
  "kernelspec": {
   "display_name": "Python 3.8.8 64-bit ('base': conda)",
   "name": "python3"
  },
  "language_info": {
   "codemirror_mode": {
    "name": "ipython",
    "version": 3
   },
   "file_extension": ".py",
   "mimetype": "text/x-python",
   "name": "python",
   "nbconvert_exporter": "python",
   "pygments_lexer": "ipython3",
   "version": "3.8.8"
  }
 },
 "nbformat": 4,
 "nbformat_minor": 5
}