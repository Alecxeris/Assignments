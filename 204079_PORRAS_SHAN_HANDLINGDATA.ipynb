{
 "cells": [
  {
   "cell_type": "markdown",
   "source": [
    "# Assignment: Handling Data\n",
    "\n",
    "This problem set aims to solidify your understanding of the first half of Module 4 (intermediate data types).  \n",
    "\n",
    "Please follow all instructions precisely."
   ],
   "metadata": {}
  },
  {
   "cell_type": "markdown",
   "source": [
    "## Problem 1: Social Media Relationships (9 points) \n",
    "\n",
    "Let us pretend that you are building a new app. Your app supports social media functionality, which means that users can have _relationships_ with other users.  \n",
    "\n",
    "There are two guidelines for describing relationships on this social media app:  \n",
    "1. Any user can _follow_ any other user.  \n",
    "2. If two users follow each other, they are considered _friends_.  \n",
    "\n",
    "Data about your users and their followers is stored in a dictionary that adheres to this structure:  "
   ],
   "metadata": {}
  },
  {
   "cell_type": "code",
   "execution_count": 1,
   "source": [
    "# NON-INTERACTIVE CODE CELL. YOU MAY RUN THIS CELL, BUT DO NOT EDIT IT.\n",
    "# FOR DEMONSTRATION PURPOSES ONLY. DO NOT EDIT.\n",
    "\n",
    "social_graph = {\n",
    "    \"@bongolpoc\":{\"first_name\":\"Joselito\",\n",
    "                  \"last_name\":\"Olpoc\",\n",
    "                  \"following\":[\n",
    "                  ]\n",
    "    },\n",
    "    \"@joaquin\":  {\"first_name\":\"Joaquin\",\n",
    "                  \"last_name\":\"Gonzales\",\n",
    "                  \"following\":[\n",
    "                      \"@chums\",\"@jobenilagan\"\n",
    "                  ]\n",
    "    },\n",
    "    \"@chums\" : {\"first_name\":\"Matthew\",\n",
    "                \"last_name\":\"Uy\",\n",
    "                \"following\":[\n",
    "                    \"@bongolpoc\",\"@miketan\",\"@rudyang\",\"@joeilagan\"\n",
    "                ]\n",
    "    },\n",
    "    \"@jobenilagan\":{\"first_name\":\"Joben\",\n",
    "                   \"last_name\":\"Ilagan\",\n",
    "                   \"following\":[\n",
    "                    \"@eeebeee\",\"@joeilagan\",\"@chums\",\"@joaquin\"\n",
    "                   ]\n",
    "    },\n",
    "    \"@joeilagan\":{\"first_name\":\"Joe\",\n",
    "                  \"last_name\":\"Ilagan\",\n",
    "                  \"following\":[\n",
    "                    \"@eeebeee\",\"@jobenilagan\",\"@chums\"\n",
    "                  ]\n",
    "    },\n",
    "    \"@eeebeee\":  {\"first_name\":\"Elizabeth\",\n",
    "                  \"last_name\":\"Ilagan\",\n",
    "                  \"following\":[\n",
    "                    \"@jobenilagan\",\"@joeilagan\"\n",
    "                  ]\n",
    "    },\n",
    "}"
   ],
   "outputs": [],
   "metadata": {}
  },
  {
   "cell_type": "markdown",
   "source": [
    "**Write a function called `relationship_status` that takes three positional arguments: (str) `from_member`, (str) `to_member`, and (dict) `social_graph`. The function should determine the _relationship status_ of the first member to the second member based on the data stored in the social graph. The function should _return_ one of these values depending on what is appropriate:**  \n",
    "- \"follower\", if `from_member` follows `to_member`\n",
    "- \"followed by\", if `from_member` is followed by `to_member`\n",
    "- \"friends\", if `from_member` and `to_member` follow each other\n",
    "- None if none of the above scenarios are applicable  \n",
    "\n",
    "Specifications:  \n",
    "1. `from_member` and `to_member` are user IDs (e.g. \"@jobenilagan\").\n",
    "2. `social_graph` is a dictionary that adheres to the specification demonstrated in the demo cell."
   ],
   "metadata": {}
  },
  {
   "cell_type": "code",
   "execution_count": 2,
   "source": [
    "# CODE CELL\n",
    "#Run the social_graph dictionary first before calling\n",
    "def relationship_status(from_member,to_member,social_graph):\n",
    "    try:\n",
    "        if from_member not in social_graph.keys() and to_member not in social_graph.keys():\n",
    "            print(\"Sorry. You're input is invalid. Please try again.\")\n",
    "    except:\n",
    "        print(\"Sorry. You're input is invalid. Please try again.\")\n",
    "    if to_member in social_graph[from_member][\"following\"] and from_member in social_graph[to_member][\"following\"]:\n",
    "        return(\"friends\")\n",
    "    elif from_member in social_graph[to_member][\"following\"]:\n",
    "        return(\"followed by\")\n",
    "    elif to_member in social_graph[from_member][\"following\"]:\n",
    "        return(\"follower\")\n",
    "    else:\n",
    "        return()\n",
    "# PROBLEM 1\n",
    "from_member = input(\"Who's your from_member? \")\n",
    "to_member = input(\"Who's your to_member? \")\n",
    "social_graph = social_graph\n",
    "relationship_status(from_member,to_member,social_graph)"
   ],
   "outputs": [
    {
     "output_type": "execute_result",
     "data": {
      "text/plain": [
       "'friends'"
      ]
     },
     "metadata": {},
     "execution_count": 2
    }
   ],
   "metadata": {}
  },
  {
   "cell_type": "markdown",
   "source": [
    "## Problem 2: Tic Tac Toe (10 points)  \n",
    "\n",
    "Tic Tac Toe is a common paper-and-pencil game. Players must attempt to successfully draw a straight line of their symbol across a grid. The player that does this first is considered the winner.  \n",
    "\n",
    "Here are several possible board configurations:"
   ],
   "metadata": {}
  },
  {
   "cell_type": "code",
   "execution_count": 3,
   "source": [
    "# NON-INTERACTIVE CODE CELL. YOU MAY RUN THIS CELL, BUT DO NOT EDIT IT.\n",
    "# FOR DEMONSTRATION PURPOSES ONLY. DO NOT EDIT.\n",
    "\n",
    "board1 = [\n",
    "['X','X','O'],\n",
    "['O','X','O'],\n",
    "['O','','X'],\n",
    "]\n",
    "\n",
    "board2 = [\n",
    "['X','X','O'],\n",
    "['O','X','O'],\n",
    "['','O','X'],\n",
    "]\n",
    "\n",
    "board3 = [\n",
    "['O','X','O'],\n",
    "['','O','X'],\n",
    "['X','X','O'],\n",
    "]\n",
    "\n",
    "board4 = [\n",
    "['X','X','X'],\n",
    "['O','X','O'],\n",
    "['O','','O'],\n",
    "]\n",
    "\n",
    "board5 = [\n",
    "['X','X','O'],\n",
    "['O','X','O'],\n",
    "['X','','O'],\n",
    "]\n",
    "\n",
    "board6 = [\n",
    "['X','X','O'],\n",
    "['O','X','O'],\n",
    "['X','',''],\n",
    "]"
   ],
   "outputs": [],
   "metadata": {}
  },
  {
   "cell_type": "markdown",
   "source": [
    "**Write a function called `tic_tac_toe` that takes one positional argument (list) `board`. The function should _return_ the winner of the board if there is one, and it should return `None` if there is no winner on the board.**  \n",
    "\n",
    "Specifications:\n",
    "1. Each player is represented by their symbol. Example: if the player using 'X' won the board, then simply return the string 'X'.\n",
    "2. The board may be 3x3, 4x4, 5x5, or 6x6.\n",
    "3. The game will only ever be player X vs player O. No other symbols will be used.\n",
    "4. There may be no winner, and there may be 1 winner, but there will never be a situation where there is more than 1 winner."
   ],
   "metadata": {}
  },
  {
   "cell_type": "code",
   "execution_count": 63,
   "source": [
    "# CODE CELL\n",
    "def tic_tac_toe(board):\n",
    "    x_counter = 0\n",
    "    o_counter = 0\n",
    "    winner = 0\n",
    "    rd_counter = 0 #right diagonal support\n",
    "    #checker\n",
    "    for j in range(0,len(board)): #Horizontal Checker\n",
    "        x_counter = 0\n",
    "        o_counter = 0\n",
    "        for i in board[j]:\n",
    "            if i == \"O\":\n",
    "                o_counter += 1\n",
    "            elif i == \"X\":\n",
    "                x_counter += 1\n",
    "        if x_counter == len(board):\n",
    "            winner = 1\n",
    "            break\n",
    "        elif o_counter == len(board):\n",
    "            winner = 2\n",
    "            break\n",
    "\n",
    "    for a in range(0,len(board)): #Vertical Checker\n",
    "        x_counter =0\n",
    "        o_counter =0\n",
    "        for b in range(0,len(board)):\n",
    "            if board[b][a] == \"X\":\n",
    "                x_counter +=1\n",
    "            elif board[b][a] == \"O\":\n",
    "                o_counter += 1\n",
    "        if x_counter ==len(board):\n",
    "            winner = 1\n",
    "            break\n",
    "        elif o_counter ==len(board):\n",
    "            winner = 2\n",
    "            break\n",
    "\n",
    "    x_counter =0\n",
    "    o_counter =0\n",
    "    for l in range(0,len(board)): #left diagonal checker\n",
    "        if board[l][l] == \"X\":\n",
    "            x_counter += 1\n",
    "        elif board[l][l] == \"O\":\n",
    "            o_counter += 1\n",
    "        if x_counter ==len(board):\n",
    "            winner = 1\n",
    "            break\n",
    "        elif o_counter ==len(board):\n",
    "            winner = 2\n",
    "            break\n",
    "\n",
    "    x_counter = 0\n",
    "    o_counter = 0\n",
    "    rd_counter = 0\n",
    "    for c in range(len(board)-1,-1,-1): #right diagonal checker\n",
    "        if board[rd_counter][c] == \"X\":\n",
    "            x_counter += 1\n",
    "            rd_counter += 1\n",
    "        elif board[rd_counter][c] == \"O\":\n",
    "            o_counter += 1\n",
    "            rd_counter += 1\n",
    "        if x_counter ==len(board):\n",
    "            winner = 1\n",
    "            break\n",
    "        elif o_counter ==len(board):\n",
    "            winner = 2\n",
    "            break\n",
    "\n",
    "    #Output \n",
    "    if winner == 0:\n",
    "        return(\"There is no winner\")\n",
    "    elif winner == 1:\n",
    "        return(\"X\")\n",
    "    elif winner == 2:\n",
    "        return(\"O\")\n",
    "# PROBLEM 2\n",
    "tic_tac_toe(board7)"
   ],
   "outputs": [
    {
     "output_type": "execute_result",
     "data": {
      "text/plain": [
       "'X'"
      ]
     },
     "metadata": {},
     "execution_count": 63
    }
   ],
   "metadata": {}
  },
  {
   "cell_type": "markdown",
   "source": [
    "## Problem 3: Routing (9 points)\n",
    "\n",
    "During the pandemic, a shuttle van service is tasked to travel along a predefined circular route as follows:\n",
    "\n",
    "- UP Diliman -> Ateneo de Manila (Estimated Time: 10 mins)\n",
    "- Ateneo de Manila -> De La Salle Taft (Estimated Time: 35 mins)\n",
    "- De La Salle Taft -> UP Diliman (Estimated Time: 55 mins)\n",
    "\n",
    "The route is one-way only. So, the van cannot go back directly to UP Diliman from Ateneo de Manila; rather, it will have to drop by De La Salle Taft first before going to UP Diliman.\n",
    "\n"
   ],
   "metadata": {}
  },
  {
   "cell_type": "code",
   "execution_count": 102,
   "source": [
    "# NON-INTERACTIVE CODE CELL. YOU MAY RUN THIS CELL, BUT DO NOT EDIT IT.\n",
    "# FOR DEMONSTRATION PURPOSES ONLY. DO NOT EDIT.\n",
    "\n",
    "legs = {\n",
    "     (\"upd\",\"admu\"):{\n",
    "         \"travel_time_mins\":10\n",
    "     },\n",
    "     (\"admu\",\"dlsu\"):{\n",
    "         \"travel_time_mins\":35\n",
    "     },\n",
    "     (\"dlsu\",\"upd\"):{\n",
    "         \"travel_time_mins\":55\n",
    "     }\n",
    "}"
   ],
   "outputs": [],
   "metadata": {}
  },
  {
   "cell_type": "markdown",
   "source": [
    "**Write a function called `eta` that takes three positional arguments: (dict) `legs`, (str) `source`, and (str) `destination`. The function should _return_ the estimated number of minutes it will take to reach the destination from the source based on the data stored in the `legs` dictionary.**  \n",
    "\n",
    "Specifications:\n",
    "1. The `legs` dictionary adheres to the schema followed in the demo cell.  \n",
    "2. There may be more legs than shown in the demo cell.\n",
    "3. Any destination can be reached from any source."
   ],
   "metadata": {}
  },
  {
   "cell_type": "code",
   "execution_count": 108,
   "source": [
    "# CODE CELL\n",
    "def eta(legs,source,destination):\n",
    "    input_data = []\n",
    "    input_data.append(source)\n",
    "    input_data.append(destination)\n",
    "    input_data = tuple(input_data)\n",
    "    key_code = legs.keys()\n",
    "    key_destination = []\n",
    "    travel_time = 0\n",
    "    if source == destination:\n",
    "        return(\"0 minutes because you're already at your destination.\")\n",
    "    if input_data in legs.keys():\n",
    "        travel_time = legs[input_data][\"travel_time_mins\"]\n",
    "    else:\n",
    "        while destination != key_destination:\n",
    "            for c in range(len(legs.keys())):\n",
    "                input_data = []\n",
    "                input_data.append(source)\n",
    "                key_code = legs.keys()\n",
    "                key_code = list(key_code)\n",
    "                key_code = key_code[c]\n",
    "                key_code = list(key_code)\n",
    "                key_code = key_code[1]\n",
    "                input_data.append(key_code)\n",
    "                input_data = tuple(input_data)\n",
    "                if input_data in legs.keys():\n",
    "                    travel_time += legs[input_data][\"travel_time_mins\"]\n",
    "                    source = key_code\n",
    "                    key_destination = key_code\n",
    "                    break\n",
    "                else:\n",
    "                    continue\n",
    "    #Output\n",
    "    return(f\"It takes {travel_time} mins to go to {destination} from {source}.\")\n",
    "        #logic here is to separate the keys and ensure that the key is in the first position followed by a repeat until the destination is reached most likely a while loop until the end.\n",
    "# PROBLEM 3\n",
    "legs = legs\n",
    "source = input(\"Where are you coming from? \")\n",
    "destination = input(\"Where are you going? \")\n",
    "eta(legs,source,destination)"
   ],
   "outputs": [
    {
     "output_type": "execute_result",
     "data": {
      "text/plain": [
       "\"0 minutes because you're already at your destination.\""
      ]
     },
     "metadata": {},
     "execution_count": 108
    }
   ],
   "metadata": {}
  },
  {
   "cell_type": "code",
   "execution_count": null,
   "source": [],
   "outputs": [],
   "metadata": {}
  }
 ],
 "metadata": {
  "kernelspec": {
   "display_name": "Python 3 (ipykernel)",
   "language": "python",
   "name": "python3"
  },
  "language_info": {
   "codemirror_mode": {
    "name": "ipython",
    "version": 3
   },
   "file_extension": ".py",
   "mimetype": "text/x-python",
   "name": "python",
   "nbconvert_exporter": "python",
   "pygments_lexer": "ipython3",
   "version": "3.9.5"
  }
 },
 "nbformat": 4,
 "nbformat_minor": 5
}