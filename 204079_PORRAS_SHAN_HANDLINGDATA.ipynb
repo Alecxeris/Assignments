{
 "cells": [
  {
   "cell_type": "markdown",
   "source": [
    "# Assignment: Handling Files\n",
    "\n",
    "This assignment serves as a general synthesis for Module 4. It also serves as your introduction to using files and to coding Python _outside_ of Jupyter.  \n",
    "\n",
    "Please follow all instructions precisely. This is especially important in this assignment, which will ask you to submit a `.py` file instead of a `.ipynb` file."
   ],
   "metadata": {}
  },
  {
   "cell_type": "markdown",
   "source": [
    "## Context\n",
    "\n",
    "**CoffeePython** is a specialty coffee place along Katipunan. It commissioned students to build a crude character-mode terminal based on Python and it ran pretty well.  \n",
    "\n",
    "Due to the Covid-19 Pandemic that forced businesses to shut down, however, it had to pivot its business to online deliveries. The direction, however, is to make sure that the current Point-of-Sale (POS) system being used in the branches still works. There are some missing pieces that need to be reprogrammed again.  \n",
    "\n",
    "CoffeePython has the following products:  \n",
    "\n",
    "| Code | ProductName | Price |\n",
    "| --- | --- | --- |\n",
    "| americano | Americano | 150.00 |\n",
    "| brewedcoffee | Brewed Coffee | 150.00 |\n",
    "| cappuccino | Cappuccino | 150.00 |\n",
    "| dalgona | Dalgona | 150.00 |\n",
    "| espresso | Espresso | 150.00 |\n",
    "| frappuccino | Frappuccino | 150.00 |  \n",
    "\n",
    "The old programmers of Coffee Python encoded this data in a dictionary:"
   ],
   "metadata": {}
  },
  {
   "cell_type": "code",
   "execution_count": 1,
   "source": [
    "# NON-INTERACTIVE CODE CELL. YOU MAY RUN THIS CELL, BUT DO NOT EDIT IT.\n",
    "# FOR DEMONSTRATION PURPOSES ONLY. DO NOT EDIT.\n",
    "\n",
    "products = {\n",
    "    \"americano\":{\"name\":\"Americano\",\"price\":150.00},\n",
    "    \"brewedcoffee\":{\"name\":\"Brewed Coffee\",\"price\":110.00},\n",
    "    \"cappuccino\":{\"name\":\"Cappuccino\",\"price\":170.00},\n",
    "    \"dalgona\":{\"name\":\"Dalgona\",\"price\":170.00},\n",
    "    \"espresso\":{\"name\":\"Espresso\",\"price\":140.00},\n",
    "    \"frappuccino\":{\"name\":\"Frappuccino\",\"price\":170.00},\n",
    "}"
   ],
   "outputs": [],
   "metadata": {}
  },
  {
   "cell_type": "markdown",
   "source": [
    "## Problem 1: Product Information Lookup\n",
    "\n",
    "Write a function called `get_product` that takes one positional argument (str) `code` that is a product code of one of Coffee Python's products. The function should return the dictionary containing the information about the product whose code was passed to the function.  \n",
    "\n",
    "For example,  \n",
    "`get_product(\"espresso\")`  \n",
    "\n",
    "should return\n",
    "\n",
    "`{\"name\":\"Espresso\",\"price\":140.00}`"
   ],
   "metadata": {}
  },
  {
   "cell_type": "code",
   "execution_count": 2,
   "source": [
    "# CODE CELL\n",
    "def get_product(code):\n",
    "    try:\n",
    "        return(products[code])\n",
    "    except:\n",
    "        return(\"Sorry your item is not in the menu\")\n",
    "# PROBLEM 1\n",
    "get_product(\"americano\")"
   ],
   "outputs": [
    {
     "output_type": "execute_result",
     "data": {
      "text/plain": [
       "{'name': 'Americano', 'price': 150.0}"
      ]
     },
     "metadata": {},
     "execution_count": 2
    }
   ],
   "metadata": {}
  },
  {
   "cell_type": "markdown",
   "source": [
    "## Problem 2: Product Property Lookup\n",
    "\n",
    "Write a function called `get_property` that takes two positional arguments: (str) `code` and (str) `property`. The function should return the value appropriate property for the product code entered.  \n",
    "\n",
    "For example,  \n",
    "`get_property(\"espresso\", \"price\")`  \n",
    "\n",
    "should return  \n",
    "\n",
    "`140.0` or an equivalent float.  "
   ],
   "metadata": {}
  },
  {
   "cell_type": "code",
   "execution_count": 3,
   "source": [
    "# CODE CELL\n",
    "def get_property(code, property):\n",
    "    try:\n",
    "        return(products[code][property])\n",
    "    except:\n",
    "        return(\"Sorry your item is not in the menu\")  \n",
    "# PROBLEM 2\n",
    "get_property(\"americano\",'price')"
   ],
   "outputs": [
    {
     "output_type": "execute_result",
     "data": {
      "text/plain": [
       "150.0"
      ]
     },
     "metadata": {},
     "execution_count": 3
    }
   ],
   "metadata": {}
  },
  {
   "cell_type": "markdown",
   "source": [
    "## Problem 3: The Point-of-Sale Terminal\n",
    "\n",
    "Write a function called `main` that takes no positional arguments. This function should not return anything.  \n",
    "\n",
    "When this function is called, it should begin a session. The session should prompt its user, the clerk, to input data about a customer's orders until the clerk enters the string `\"/\"`.  \n",
    "\n",
    "Each line of input consists of two elements: the product code and the quantity. Lines of input are formatted as follows: `\"{product_code},{quantity}\"`.  \n",
    "\n",
    "It is up to you how you will store data about orders. Please use your functions from Problem 1 and Problem 2 in answering this problem.  \n",
    "\n",
    "The function should _write a file_ called `receipt.txt` that provides a summarized report of the session. The receipt should be formatted as follows:  "
   ],
   "metadata": {}
  },
  {
   "cell_type": "code",
   "execution_count": 10,
   "source": [
    "# NON-INTERACTIVE CODE CELL. YOU MAY RUN THIS CELL, BUT DO NOT EDIT IT.\n",
    "# FOR DEMONSTRATION PURPOSES ONLY. DO NOT EDIT.  \n",
    "\n",
    "# ADJUST THE NUMBER OF TABS AS NECESSARY TO FORMAT IT NICELY.\n",
    "print('''\n",
    "==\n",
    "CODE\\t\\t\\tNAME\\t\\t\\tQUANTITY\\t\\t\\tSUBTOTAL\n",
    "{code}\\t\\t\\t{name}\\t\\t\\t{quantity}\\t\\t\\t{subtotal}\n",
    "\n",
    "Total:\\t\\t\\t\\t\\t\\t\\t\\t\\t\\t{total}\n",
    "==\n",
    "''')"
   ],
   "outputs": [
    {
     "output_type": "stream",
     "name": "stdout",
     "text": [
      "\n",
      "==\n",
      "CODE\t\t\tNAME\t\t\tQUANTITY\t\t\tSUBTOTAL\n",
      "{code}\t\t\t{name}\t\t\t{quantity}\t\t\t{subtotal}\n",
      "\n",
      "Total:\t\t\t\t\t\t\t\t\t\t{total}\n",
      "==\n",
      "\n"
     ]
    }
   ],
   "metadata": {}
  },
  {
   "cell_type": "code",
   "execution_count": 20,
   "source": [
    "# NON-INTERACTIVE CODE CELL. YOU MAY RUN THIS CELL, BUT DO NOT EDIT IT.\n",
    "# FOR DEMONSTRATION PURPOSES ONLY. DO NOT EDIT.  \n",
    "\n",
    "# Example:\n",
    "print('''\n",
    "==\n",
    "CODE\\t\\t\\tNAME\\t\\t\\tQUANTITY\\t\\t\\tSUBTOTAL\n",
    "cappuccino\\t\\tCappuccino\\t\\t1\\t\\t\\t\\t170.0\n",
    "brewedcoffee\\t\\tBrewed Coffee\\t\\t5\\t\\t\\t\\t550.0\n",
    "\n",
    "Total:\\t\\t\\t\\t\\t\\t\\t\\t\\t\\t720.0\n",
    "==\n",
    "''')"
   ],
   "outputs": [
    {
     "output_type": "stream",
     "name": "stdout",
     "text": [
      "\n",
      "==\n",
      "CODE\t\t\tNAME\t\t\tQUANTITY\t\t\tSUBTOTAL\n",
      "cappuccino\t\tCappuccino\t\t1\t\t\t\t170.0\n",
      "brewedcoffee\t\tBrewed Coffee\t\t5\t\t\t\t550.0\n",
      "\n",
      "Total:\t\t\t\t\t\t\t\t\t\t720.0\n",
      "==\n",
      "\n"
     ]
    }
   ],
   "metadata": {}
  },
  {
   "cell_type": "markdown",
   "source": [
    "Specifications:\n",
    "1. The receipt should provide a summary of all the orders made during the session.  \n",
    "2. A product must only appear if it has been ordered at least once during the session. In other words, if a product is not ordered, then it should not appear in the receipt.  \n",
    "3. A product must appear only once even if it has been ordered multiple times. In other words, if a product is ordered multiple times, then it should only have one entry in the receipt that describes the sum of all of the orders made for that product.\n",
    "4. Products must appear in alphabetical order."
   ],
   "metadata": {}
  },
  {
   "cell_type": "code",
   "execution_count": 12,
   "source": [
    "# CODE CELL\n",
    "def main():\n",
    "    product_data = dict()\n",
    "    product_name = \"\"\n",
    "    product_price = 0\n",
    "    product_quantity = 0\n",
    "    product_total = 0\n",
    "    total_order = 0\n",
    "    order_summary = dict()\n",
    "    print_receipt = 0\n",
    "    receipt_decision = \"\"\n",
    "    \n",
    "    #System Interface\n",
    "    print(\"Hi there! What would you like to do?\\nTo input an order type 'input'\\nTo close the system type 'close'\" )\n",
    "    print()\n",
    "    task = input(\"What would you like to do?\")\n",
    "    if task == \"close\":\n",
    "        return(\"Thank you for using ShanOS V1\")\n",
    "    elif task == \"input\":\n",
    "        order = \"\"\n",
    "        order = input(\"What's the product code? \")\n",
    "\n",
    "        #Order Input System\n",
    "        while print_receipt == 0:\n",
    "            #Receipt Checker\n",
    "            if order == \"/\":\n",
    "                print_receipt = 1\n",
    "            #Order Taker System\n",
    "            else:\n",
    "                product_data = get_product(order)\n",
    "                product_name = product_data[\"name\"]\n",
    "                product_price = product_data[\"price\"]\n",
    "                print(f\"Each {product_name} costs {product_price}.\")\n",
    "                product_quantity = int(input(\"How many orders would you like? \"))\n",
    "                product_total += product_price*product_quantity\n",
    "                \n",
    "                #Checks whether key is present or not\n",
    "                if order in order_summary.keys():\n",
    "                    order_summary[order][\"quantity\"] += product_quantity\n",
    "                    order_summary[order][\"total\"] += product_total\n",
    "                else:\n",
    "                    order_summary[order] = {\"name\":product_name,\"quantity\":product_quantity,\"total\":product_total}         \n",
    "                order = input(\"What would you like to do next?\\nTo input the next order type the product code(i.e. americano)\\nTo print a receipt type '/'\")    \n",
    "        #Task write the file and finish it\n",
    "\n",
    "            \n",
    "        \n",
    "\n",
    "# PROBLEM 3\n",
    "main()"
   ],
   "outputs": [
    {
     "output_type": "stream",
     "name": "stdout",
     "text": [
      "Hi there! What would you like to do?\n",
      "To input an order type 'input'\n",
      "To close the system type 'close'\n",
      "\n",
      "Each Americano costs 150.0.\n",
      "Each Americano costs 150.0.\n",
      "\n",
      "Please double check the order before continuing\n",
      "Type 'y' to finalize the order\n",
      "Type 'n' to input another product code\n",
      "{'americano': {'name': 'Americano', 'quantity': 15, 'total': 3000.0}}\n"
     ]
    }
   ],
   "metadata": {}
  },
  {
   "cell_type": "code",
   "execution_count": 10,
   "source": [],
   "outputs": [
    {
     "output_type": "error",
     "ename": "AttributeError",
     "evalue": "'dict' object has no attribute 'has_key'",
     "traceback": [
      "\u001b[0;31m---------------------------------------------------------------------------\u001b[0m",
      "\u001b[0;31mAttributeError\u001b[0m                            Traceback (most recent call last)",
      "\u001b[0;32m<ipython-input-10-b6b998598b97>\u001b[0m in \u001b[0;36m<module>\u001b[0;34m\u001b[0m\n\u001b[1;32m      1\u001b[0m \u001b[0md1\u001b[0m \u001b[0;34m=\u001b[0m \u001b[0mdict\u001b[0m\u001b[0;34m(\u001b[0m\u001b[0;34m)\u001b[0m\u001b[0;34m\u001b[0m\u001b[0;34m\u001b[0m\u001b[0m\n\u001b[0;32m----> 2\u001b[0;31m \u001b[0md1\u001b[0m\u001b[0;34m.\u001b[0m\u001b[0mhas_key\u001b[0m\u001b[0;34m(\u001b[0m\u001b[0;36m1\u001b[0m\u001b[0;34m)\u001b[0m\u001b[0;34m\u001b[0m\u001b[0;34m\u001b[0m\u001b[0m\n\u001b[0m",
      "\u001b[0;31mAttributeError\u001b[0m: 'dict' object has no attribute 'has_key'"
     ]
    }
   ],
   "metadata": {}
  },
  {
   "cell_type": "markdown",
   "source": [
    "## Problem 4: Final Instructions (28 points)\n",
    "\n",
    "Paste the `products` dictionary and all three of your functions into a regular Python file called `[ID_NUM]_[LAST_NAME]_[FIRST_NAME]_HANDLINGFILES.py` (e.g., 199999_ILAGAN_JOSERAMON_HANDLINGFILES.py) and call the `main()` function once at the very bottom of the file.  \n",
    "\n",
    "The program should run properly when it is run using the `python` command.  \n",
    "\n",
    "Only Python files will be checked. Jupyter notebooks will not be checked.  "
   ],
   "metadata": {}
  },
  {
   "cell_type": "code",
   "execution_count": null,
   "source": [],
   "outputs": [],
   "metadata": {}
  }
 ],
 "metadata": {
  "kernelspec": {
   "display_name": "Python 3 (ipykernel)",
   "language": "python",
   "name": "python3"
  },
  "language_info": {
   "codemirror_mode": {
    "name": "ipython",
    "version": 3
   },
   "file_extension": ".py",
   "mimetype": "text/x-python",
   "name": "python",
   "nbconvert_exporter": "python",
   "pygments_lexer": "ipython3",
   "version": "3.9.5"
  }
 },
 "nbformat": 4,
 "nbformat_minor": 5
}