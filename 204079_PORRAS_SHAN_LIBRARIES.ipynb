{
 "cells": [
  {
   "cell_type": "markdown",
   "source": [
    "# Assignment: Libraries\n",
    "\n",
    "This problem set aims to develop your ability to use non-standard libraries such as NumPy, Pandas, Matplotlib, and requests.  \n",
    "\n",
    "Please follow all instructions precisely."
   ],
   "metadata": {}
  },
  {
   "cell_type": "markdown",
   "source": [
    "## Prerequisite: Install libraries\n",
    "\n",
    "To do this assignment, you need to have a few libraries installed. You already know how to install libraries in a basic Python virtual environment. In Anaconda, it is even easier.  \n",
    "\n",
    "Install the following libraries:\n",
    "1. Pandas\n",
    "2. Requests\n",
    "3. Matplotlib\n",
    "\n",
    "Follow this tutorial to install external libraries for your Jupyter notebook using the Anaconda Navigator.  \n",
    "\n",
    "https://www.tutorialspoint.com/add-packages-to-anaconda-environment-in-python  \n",
    "\n",
    "Once you are done, run the following cell. If it does nothing (i.e., if it throws no errors), then you may proceed."
   ],
   "metadata": {}
  },
  {
   "cell_type": "code",
   "execution_count": 1,
   "source": [
    "# NON-EDITABLE CODE CELL\n",
    "# You may run this cell, but do not edit it.\n",
    "\n",
    "import pandas as pd\n",
    "import numpy as np\n",
    "import matplotlib.pyplot as plt\n",
    "import requests"
   ],
   "outputs": [],
   "metadata": {}
  },
  {
   "cell_type": "markdown",
   "source": [
    "## Note\n",
    "\n",
    "1. There is a good chance that you will have to look up how to do things using these libraries. This is fine. Just credit your sources appropriately.\n"
   ],
   "metadata": {}
  },
  {
   "cell_type": "markdown",
   "source": [
    "## Problem 1: Association Rules"
   ],
   "metadata": {}
  },
  {
   "cell_type": "markdown",
   "source": [
    "### Context\n",
    "\n",
    "You are a data consultant for a medium-sized grocery. Your job is to help the grocery's marketing and sales team identify the most frequent purchases of customers.  "
   ],
   "metadata": {}
  },
  {
   "cell_type": "markdown",
   "source": [
    "### 1.1\n",
    "\n",
    "Read the file `sample order basket.csv` into a Pandas DataFrame called `df`."
   ],
   "metadata": {}
  },
  {
   "cell_type": "code",
   "execution_count": 1,
   "source": [
    "# CODE CELL\n",
    "\n",
    "# CODE START\n",
    "\n",
    "# CODE END"
   ],
   "outputs": [],
   "metadata": {}
  },
  {
   "cell_type": "markdown",
   "source": [
    "### 1.2\n",
    "\n",
    "Create a \"binary table\" using a Pandas DataFrame. Save the DataFrame in a variable called `binary_table`.  \n",
    "\n",
    "The specifications of the binary table are as follows:\n",
    "1. The data in the binary table is based on the order log contained in `df`.\n",
    "2. The index values of the binary table are the unique order IDs contained in the sales logs. These are arranged in ascending numerical order. Format the values as `int64`.\n",
    "3. The column values of the binary table are the unique products contained in the sales logs. These are arranged in alphabetical order. Format the values as `object`.\n",
    "4. The values of the binary table are either 0 or 1. A value will be 1 if the respective product is present in the respective order, and it will be 0 if the respective product is not present in the respective order. So, for example: if Order 5 ordered an apple, then the cell at row 5, column apple will have the value 1, and every other cell at row 5 will have the value 0."
   ],
   "metadata": {}
  },
  {
   "cell_type": "code",
   "execution_count": null,
   "source": [
    "# CODE CELL\n",
    "\n",
    "# CODE START\n",
    "\n",
    "# CODE END"
   ],
   "outputs": [],
   "metadata": {}
  },
  {
   "cell_type": "markdown",
   "source": [
    "### 1.3\n",
    "\n",
    "Using `binary_table`, create a report. Store this report in a Pandas DataFrame called `report`.  \n",
    "\n",
    "The specifications of the report are as follows:\n",
    "1. The data in the report is based on the data in `binary_table`.\n",
    "2. The index values of `report` are simply the defaults (i.e., counting up from 0 to whatever number).\n",
    "3. `report` has two columns: `combination` and `count`. The `combination` column will contain tuples that describe an order combination (e.g., (\"apple\", \"eggplant\")). Format the `combination` column as `object`. The `count` column will contain an integer value describing the number of times that this combination appeared in the list of orders. Format the `count` column as `int64`.\n",
    "4. Sort `reports` by `count` in descending order. The order of combinations within each count bracket does not matter.\n",
    "\n",
    "You may use any standard library from Python 3.8 that you feel is necessary to complete this item. (This just means that you can use any standard Python library as long as it was in Python 3.8)."
   ],
   "metadata": {}
  },
  {
   "cell_type": "code",
   "execution_count": null,
   "source": [
    "# CODE CELL\n",
    "\n",
    "# CODE START\n",
    "\n",
    "# CODE END"
   ],
   "outputs": [],
   "metadata": {}
  },
  {
   "cell_type": "markdown",
   "source": [
    "## Problem 2: A Plot of the International Space Station's Location"
   ],
   "metadata": {}
  },
  {
   "cell_type": "markdown",
   "source": [
    "We will only be checking the final output of this problem. \n",
    "\n",
    "### Context\n",
    "\n",
    "You are a budding data scientist aiming to try your new tools on real-world data. As a pet project, you have decided that you want to try plotting the latitude and longitude positions of the International Space Station on a chart.  \n",
    "\n",
    "An \"application programming interface\" (API) is an interface (i.e., a point of connection/use) that a program offers to other pieces of software. APIs are how modern computer programs interact. To massively oversimplify the concept, modern applications send and receive HTTP requests and JSON-formatted data to talk to each other.  \n",
    "\n",
    "We will be using the ISS position data API hosted at http://open-notify.org/Open-Notify-API/ISS-Location-Now/ for this item.  \n",
    "\n",
    "You are expected to read the documentation of this API for this item."
   ],
   "metadata": {}
  },
  {
   "cell_type": "markdown",
   "source": [
    "### 2.1\n",
    "\n",
    "Use the `requests` library and the `time` library to collect position data of the ISS at intervals of 10 seconds over the course of 30 minutes by sending GET requests to the ISS API endpoint.  \n",
    "\n",
    "The specifications of this problem are as follows:\n",
    "1. Send a GET request to the ISS API endpoint once every 10 seconds for 30 minutes. \n",
    "2. Each time you send a GET request, append the returned data to a list called `iss_data`.\n",
    "3. Save all the data to a file called `iss-data.json` so that you do not lose it. You may do this every time you get a request if you wish.\n",
    "4. Do not modify the returned data per GET request.  \n",
    "5. The final file `iss-data.json` should contain roughly 180 data points.\n",
    "\n",
    "We will not be strict about the time intervals. We will only look at the chart that you produce from your data."
   ],
   "metadata": {}
  },
  {
   "cell_type": "code",
   "execution_count": null,
   "source": [
    "# CODE CELL\n",
    "\n",
    "# CODE START\n",
    "\n",
    "# CODE END"
   ],
   "outputs": [],
   "metadata": {}
  },
  {
   "cell_type": "markdown",
   "source": [
    "### 2.2\n",
    "\n",
    "Using the data you gathered and stored in `iss-data.json`, make a `matplotlib` plot of the location data.  \n",
    "\n",
    "The specifications of this problem are as follows: \n",
    "1. Use the longitude and latitude data contained in `iss-data.json` as your data.\n",
    "2. Plot this data on a `matplotlib` plot that appropriately visualizes the data. It is up to you what specific plot you want to use as long as we, the human readers of your report, understand the message of your plot.\n",
    "3. Use latitude as the X axis and longitude as the Y axis.  \n",
    "4. VERY IMPORTANT: Make sure that the chart displays in your Jupyter notebook before you submit.  \n",
    "\n",
    "We will only check the chart. We do not care how you make it display as long as you follow the specifications."
   ],
   "metadata": {}
  },
  {
   "cell_type": "code",
   "execution_count": null,
   "source": [
    "# CODE CELL\n",
    "\n",
    "# CODE START\n",
    "\n",
    "# CODE END"
   ],
   "outputs": [],
   "metadata": {}
  }
 ],
 "metadata": {
  "kernelspec": {
   "name": "python3",
   "display_name": "Python 3.8.8 64-bit ('base': conda)"
  },
  "language_info": {
   "codemirror_mode": {
    "name": "ipython",
    "version": 3
   },
   "file_extension": ".py",
   "mimetype": "text/x-python",
   "name": "python",
   "nbconvert_exporter": "python",
   "pygments_lexer": "ipython3",
   "version": "3.8.8"
  },
  "interpreter": {
   "hash": "344443636c3027c5042750c9c609acdda283a9c43681b128a8c1053e7ad2aa7d"
  }
 },
 "nbformat": 4,
 "nbformat_minor": 5
}